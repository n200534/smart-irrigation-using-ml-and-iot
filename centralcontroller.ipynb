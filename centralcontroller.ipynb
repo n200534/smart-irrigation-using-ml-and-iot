{
 "cells": [
  {
   "cell_type": "code",
   "execution_count": null,
   "metadata": {},
   "outputs": [],
   "source": [
    "import requests\n",
    "import urllib. request\n",
    "import numpy as np\n",
    "import joblib\n",
    "import time\n",
    "import json"
   ]
  },
  {
   "cell_type": "code",
   "execution_count": null,
   "metadata": {},
   "outputs": [],
   "source": [
    "# Path to the trained joblib ML model\n",
    "model_path =r\"C:/Users/Akshay/Desktop/Smart-Irrigation-system-using-ML-and-IoT-main/new.joblib\"  \n",
    "\n",
    "# Load the ML model\n",
    "model = joblib.load(model_path)"
   ]
  },
  {
   "cell_type": "code",
   "execution_count": null,
   "metadata": {},
   "outputs": [],
   "source": [
    "def fetch_precipitation_data(api_key, city_name):\n",
    "    base_url = \"https://api.openweathermap.org/data/2.5/weather\"\n",
    "    params = {\n",
    "        \"q\": \"Nuzvid\",\n",
    "        \"appid\": \"1397682a67fb8c475bee0a8bc60d3226\",\n",
    "        \"units\": \"metric\"\n",
    "    }\n",
    "\n",
    "    response = requests.get(base_url, params=params)\n",
    "\n",
    "    if response.status_code == 200:\n",
    "        data = response.json()\n",
    "        precipitation = data.get(\"rain\", 0)\n",
    "\n",
    "        return precipitation\n",
    "    else:\n",
    "        print(\"Error: Unable to fetch precipitation data.\")\n",
    "        return None"
   ]
  },
  {
   "cell_type": "code",
   "execution_count": null,
   "metadata": {},
   "outputs": [],
   "source": [
    "def thingspeak_publish(val1):\n",
    "    URL='https://api.thingspeak.com/update?api_key='\n",
    "    KEY='22YJBLY6TX86MN68'\n",
    "    HEADER='&field4={val:.2f}'.format(val=val1)\n",
    "    new_URL=URL+KEY+HEADER\n",
    "    data=urllib.request.urlopen(new_URL)\n",
    "    print(data)\n",
    "    print(\"succesfully published\")\n",
    "\n",
    "\n",
    "def isnan(num):\n",
    "    return num!=num"
   ]
  },
  {
   "cell_type": "code",
   "execution_count": null,
   "metadata": {},
   "outputs": [],
   "source": [
    "result=[0.00,0.00]\n"
   ]
  },
  {
   "cell_type": "code",
   "execution_count": null,
   "metadata": {},
   "outputs": [],
   "source": [
    "def thinkspeak_subscribe():\n",
    "    # ThingSpeak API endpoint and parameters\n",
    "    api_endpoint = \"https://api.thingspeak.com/channels/2367930/feeds.json\"\n",
    "    api_key = \"22YJBLY6TX86MN68\"  # Replace with your ThingSpeak read API key\n",
    "    results = 1   # Number of latest results to retrieve\n",
    "\n",
    "    # Construct the API request URL\n",
    "    api_url = \"{}?api_key={}&results={}\".format(api_endpoint, api_key, results)\n",
    "\n",
    "    # Send GET request to the API\n",
    "    response = requests.get(api_url)\n",
    "\n",
    "    # Parse the response JSON\n",
    "    data = json.loads(response.text)\n",
    "\n",
    "    # Check if the API request was successful\n",
    "    if response.status_code == 200:\n",
    "        # Extract the latest temperature and humidity values\n",
    "        entries = data[\"feeds\"]\n",
    "        print(entries)\n",
    "        if len(entries) > 0:\n",
    "            try:\n",
    "                if entries[0].get(\"field1\")!=None and entries[0].get(\"field2\")!=None:    #ENTER YOUR FIELDS ACCORDINGLY TO THE THINKSPEAK CLOUD\n",
    "                    result[0] = entries[0].get(\"field1\")\n",
    "                    result[1] = entries[0].get(\"field2\")\n",
    "            except:\n",
    "                pass\n",
    "        else:\n",
    "            print(\"No data available.\")\n",
    "    else:\n",
    "        print(\"Failed to fetch data. Error code:\", response.status_code)\n",
    "\n",
    "\n",
    "# Provide your OpenWeatherMap API key and the city name for the desired location\n",
    "api_key = \"1397682a67fb8c475bee0a8bc60d3226\"\n",
    "city_name = \"Vijayawada,IN\""
   ]
  },
  {
   "cell_type": "code",
   "execution_count": null,
   "metadata": {},
   "outputs": [],
   "source": [
    "while True:\n",
    "    precipitation=fetch_precipitation_data(api_key, city_name)\n",
    "\n",
    "    # Print the precipitation data\n",
    "    if precipitation is not None:\n",
    "        print(f\"Precipitation: {precipitation} mm\")\n",
    "    \n",
    "    thinkspeak_subscribe()\n",
    "    print(\"temperature: {0} , humidity:{1}\",result[0],result[1])\n",
    "    # Preprocess the data\n",
    "    #Check  for  the third input\n",
    "    data = np.array([[result[0], result[1],1,precipitation]] )\n",
    "    # Apply the ML model for prediction\n",
    "    prediction = model.predict(data)\n",
    "    prediction=float(prediction)\n",
    "    print(f\"Prediction: {prediction} %\")\n",
    "    thingspeak_publish(prediction)\n",
    "    time.sleep(10)"
   ]
  }
 ],
 "metadata": {
  "kernelspec": {
   "display_name": "Python 3",
   "language": "python",
   "name": "python3"
  },
  "language_info": {
   "name": "python",
   "version": "3.10.5"
  }
 },
 "nbformat": 4,
 "nbformat_minor": 2
}
